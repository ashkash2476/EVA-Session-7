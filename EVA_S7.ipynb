{
  "nbformat": 4,
  "nbformat_minor": 0,
  "metadata": {
    "kernelspec": {
      "name": "python3",
      "display_name": "Python 3"
    },
    "language_info": {
      "codemirror_mode": {
        "name": "ipython",
        "version": 3
      },
      "file_extension": ".py",
      "mimetype": "text/x-python",
      "name": "python",
      "nbconvert_exporter": "python",
      "pygments_lexer": "ipython3",
      "version": "3.6.6"
    },
    "colab": {
      "name": "EVA_S8_V1.ipynb",
      "provenance": [],
      "collapsed_sections": []
    },
    "accelerator": "GPU"
  },
  "cells": [
    {
      "cell_type": "code",
      "metadata": {
        "id": "-yVpodAMpoCi",
        "colab_type": "code",
        "colab": {}
      },
      "source": [
        "import torch\n",
        "import torchvision\n",
        "import torch.nn as nn\n",
        "%matplotlib inline\n",
        "import torchvision.transforms as transforms\n",
        "import torch.nn.functional as F\n"
      ],
      "execution_count": 0,
      "outputs": []
    },
    {
      "cell_type": "code",
      "metadata": {
        "id": "F9SP2vOtRgQC",
        "colab_type": "code",
        "colab": {
          "base_uri": "https://localhost:8080/",
          "height": 272
        },
        "outputId": "321ba216-b626-4496-b2a0-69e9c6ee86a2"
      },
      "source": [
        "from google.colab import auth                    # Other necessary packages\n",
        "from oauth2client.client import GoogleCredentials\n",
        "!pip install pydrive                             # Package to use Google Drive API - not installed in Colab VM by default\n",
        "from pydrive.auth import GoogleAuth\n",
        "from pydrive.drive import GoogleDrive\n"
      ],
      "execution_count": 2,
      "outputs": [
        {
          "output_type": "stream",
          "text": [
            "Requirement already satisfied: pydrive in /usr/local/lib/python3.6/dist-packages (1.3.1)\n",
            "Requirement already satisfied: PyYAML>=3.0 in /usr/local/lib/python3.6/dist-packages (from pydrive) (3.13)\n",
            "Requirement already satisfied: oauth2client>=4.0.0 in /usr/local/lib/python3.6/dist-packages (from pydrive) (4.1.3)\n",
            "Requirement already satisfied: google-api-python-client>=1.2 in /usr/local/lib/python3.6/dist-packages (from pydrive) (1.7.12)\n",
            "Requirement already satisfied: pyasn1-modules>=0.0.5 in /usr/local/lib/python3.6/dist-packages (from oauth2client>=4.0.0->pydrive) (0.2.8)\n",
            "Requirement already satisfied: httplib2>=0.9.1 in /usr/local/lib/python3.6/dist-packages (from oauth2client>=4.0.0->pydrive) (0.17.3)\n",
            "Requirement already satisfied: rsa>=3.1.4 in /usr/local/lib/python3.6/dist-packages (from oauth2client>=4.0.0->pydrive) (4.0)\n",
            "Requirement already satisfied: pyasn1>=0.1.7 in /usr/local/lib/python3.6/dist-packages (from oauth2client>=4.0.0->pydrive) (0.4.8)\n",
            "Requirement already satisfied: six>=1.6.1 in /usr/local/lib/python3.6/dist-packages (from oauth2client>=4.0.0->pydrive) (1.12.0)\n",
            "Requirement already satisfied: google-auth>=1.4.1 in /usr/local/lib/python3.6/dist-packages (from google-api-python-client>=1.2->pydrive) (1.7.2)\n",
            "Requirement already satisfied: uritemplate<4dev,>=3.0.0 in /usr/local/lib/python3.6/dist-packages (from google-api-python-client>=1.2->pydrive) (3.0.1)\n",
            "Requirement already satisfied: google-auth-httplib2>=0.0.3 in /usr/local/lib/python3.6/dist-packages (from google-api-python-client>=1.2->pydrive) (0.0.3)\n",
            "Requirement already satisfied: cachetools<3.2,>=2.0.0 in /usr/local/lib/python3.6/dist-packages (from google-auth>=1.4.1->google-api-python-client>=1.2->pydrive) (3.1.1)\n",
            "Requirement already satisfied: setuptools>=40.3.0 in /usr/local/lib/python3.6/dist-packages (from google-auth>=1.4.1->google-api-python-client>=1.2->pydrive) (46.3.0)\n"
          ],
          "name": "stdout"
        }
      ]
    },
    {
      "cell_type": "code",
      "metadata": {
        "id": "HrHFXFenRW9k",
        "colab_type": "code",
        "colab": {}
      },
      "source": [
        "\n",
        "auth.authenticate_user()                         # Follow prompt in the authorization process\n",
        "gauth = GoogleAuth()\n",
        "gauth.credentials = GoogleCredentials.get_application_default()"
      ],
      "execution_count": 0,
      "outputs": []
    },
    {
      "cell_type": "code",
      "metadata": {
        "id": "8jj57A7LRuu0",
        "colab_type": "code",
        "colab": {}
      },
      "source": [
        "drive = GoogleDrive(gauth)\n",
        "your_module = drive.CreateFile({'id':'1fa_1WEGElTsJutK4IseCifM2joFgIADF'})\n",
        "your_module.GetContentFile(\"Data_Loader_V4.py\")\n",
        "\n"
      ],
      "execution_count": 0,
      "outputs": []
    },
    {
      "cell_type": "code",
      "metadata": {
        "id": "D8Tjigo2poCl",
        "colab_type": "code",
        "outputId": "917ef2b5-fd4f-4ad3-f3dc-9c564c77efa7",
        "colab": {
          "base_uri": "https://localhost:8080/",
          "height": 50
        }
      },
      "source": [
        "from Data_Loader_V4 import Load_data\n",
        "#Load_data()\n",
        "transform, trainset, trainloader, testset, testloader, classes=Load_data()"
      ],
      "execution_count": 5,
      "outputs": [
        {
          "output_type": "stream",
          "text": [
            "Files already downloaded and verified\n",
            "Files already downloaded and verified\n"
          ],
          "name": "stdout"
        }
      ]
    },
    {
      "cell_type": "markdown",
      "metadata": {
        "id": "_cj433rtpoCn",
        "colab_type": "text"
      },
      "source": [
        "Let us show some of the training images, for fun.\n",
        "\n"
      ]
    },
    {
      "cell_type": "code",
      "metadata": {
        "id": "daA7bADhpoCo",
        "colab_type": "code",
        "outputId": "1aaf5458-d42b-484d-e28a-26cc45c4422a",
        "colab": {
          "base_uri": "https://localhost:8080/",
          "height": 155
        }
      },
      "source": [
        "import matplotlib.pyplot as plt\n",
        "import numpy as np\n",
        "\n",
        "# functions to show an image\n",
        "\n",
        "\n",
        "def imshow(img):\n",
        "    img = img / 2 + 0.5     # unnormalize\n",
        "    npimg = img.numpy()\n",
        "    plt.imshow(np.transpose(npimg, (1, 2, 0)))\n",
        "\n",
        "\n",
        "# get some random training images\n",
        "dataiter = iter(trainloader)\n",
        "images, labels = dataiter.next()\n",
        "\n",
        "# show images\n",
        "imshow(torchvision.utils.make_grid(images))\n",
        "# print labels\n",
        "print(' '.join('%5s' % classes[labels[j]] for j in range(4)))"
      ],
      "execution_count": 6,
      "outputs": [
        {
          "output_type": "stream",
          "text": [
            " bird   cat   car truck\n"
          ],
          "name": "stdout"
        },
        {
          "output_type": "display_data",
          "data": {
            "image/png": "[encoded data removed]",
            "text/plain": [
              "<Figure size 432x288 with 1 Axes>"
            ]
          },
          "metadata": {
            "tags": [],
            "needs_background": "light"
          }
        }
      ]
    },
    {
      "cell_type": "code",
      "metadata": {
        "id": "ub2I7XURb_iI",
        "colab_type": "code",
        "colab": {}
      },
      "source": [
        "\n",
        "your_module = drive.CreateFile({'id':'15FJEWwLz79nWhN_CliY3byQ9oWt5fsB2'})\n",
        "\n",
        "your_module.GetContentFile(\"model_architecture.py\")\n"
      ],
      "execution_count": 0,
      "outputs": []
    },
    {
      "cell_type": "markdown",
      "metadata": {
        "id": "28OpHA_LpoCq",
        "colab_type": "text"
      },
      "source": [
        "2. Define a Convolution Neural Network\n",
        "^^^^^^^^^^^^^^^^^^^^^^^^^^^^^^^^^^^^^^\n",
        "Copy the neural network from the Neural Networks section before and modify it to\n",
        "take 3-channel images (instead of 1-channel images as it was defined).\n",
        "\n"
      ]
    },
    {
      "cell_type": "code",
      "metadata": {
        "id": "0jjLwLLQpoCr",
        "colab_type": "code",
        "colab": {}
      },
      "source": [
        "import model_architecture"
      ],
      "execution_count": 0,
      "outputs": []
    },
    {
      "cell_type": "code",
      "metadata": {
        "id": "sh1c3Yx0lzsY",
        "colab_type": "code",
        "outputId": "faa6d6b0-fc8a-48ea-fd83-ab925837e237",
        "colab": {
          "base_uri": "https://localhost:8080/",
          "height": 874
        }
      },
      "source": [
        "!pip install torchsummary\n",
        "from torchsummary import summary\n",
        "use_cuda = torch.cuda.is_available()\n",
        "device = torch.device(\"cuda\" if use_cuda else \"cpu\")\n",
        "model = model_architecture.Net().to(device)\n",
        "summary(model, input_size=(3, 32, 32))"
      ],
      "execution_count": 9,
      "outputs": [
        {
          "output_type": "stream",
          "text": [
            "Requirement already satisfied: torchsummary in /usr/local/lib/python3.6/dist-packages (1.5.1)\n",
            "----------------------------------------------------------------\n",
            "        Layer (type)               Output Shape         Param #\n",
            "================================================================\n",
            "            Conv2d-1           [-1, 64, 32, 32]           1,728\n",
            "       BatchNorm2d-2           [-1, 64, 32, 32]             128\n",
            "              ReLU-3           [-1, 64, 32, 32]               0\n",
            "           Dropout-4           [-1, 64, 32, 32]               0\n",
            "            Conv2d-5          [-1, 128, 30, 30]          73,728\n",
            "       BatchNorm2d-6          [-1, 128, 30, 30]             256\n",
            "              ReLU-7          [-1, 128, 30, 30]               0\n",
            "           Dropout-8          [-1, 128, 30, 30]               0\n",
            "            Conv2d-9          [-1, 256, 30, 30]         294,912\n",
            "      BatchNorm2d-10          [-1, 256, 30, 30]             512\n",
            "             ReLU-11          [-1, 256, 30, 30]               0\n",
            "          Dropout-12          [-1, 256, 30, 30]               0\n",
            "        MaxPool2d-13          [-1, 256, 15, 15]               0\n",
            "           Conv2d-14          [-1, 256, 17, 17]             256\n",
            "             ReLU-15          [-1, 256, 17, 17]               0\n",
            "          Dropout-16          [-1, 256, 17, 17]               0\n",
            "           Conv2d-17           [-1, 64, 17, 17]         147,456\n",
            "      BatchNorm2d-18           [-1, 64, 17, 17]             128\n",
            "             ReLU-19           [-1, 64, 17, 17]               0\n",
            "          Dropout-20           [-1, 64, 17, 17]               0\n",
            "           Conv2d-21           [-1, 64, 17, 17]          36,864\n",
            "      BatchNorm2d-22           [-1, 64, 17, 17]             128\n",
            "             ReLU-23           [-1, 64, 17, 17]               0\n",
            "          Dropout-24           [-1, 64, 17, 17]               0\n",
            "        MaxPool2d-25             [-1, 64, 8, 8]               0\n",
            "           Conv2d-26            [-1, 128, 8, 8]          73,728\n",
            "      BatchNorm2d-27            [-1, 128, 8, 8]             256\n",
            "             ReLU-28            [-1, 128, 8, 8]               0\n",
            "          Dropout-29            [-1, 128, 8, 8]               0\n",
            "           Conv2d-30            [-1, 128, 8, 8]         147,456\n",
            "      BatchNorm2d-31            [-1, 128, 8, 8]             256\n",
            "             ReLU-32            [-1, 128, 8, 8]               0\n",
            "          Dropout-33            [-1, 128, 8, 8]               0\n",
            "        MaxPool2d-34            [-1, 128, 4, 4]               0\n",
            "           Conv2d-35            [-1, 128, 4, 4]         147,456\n",
            "           Conv2d-36             [-1, 10, 4, 4]           1,280\n",
            "        AvgPool2d-37             [-1, 10, 1, 1]               0\n",
            "================================================================\n",
            "Total params: 926,528\n",
            "Trainable params: 926,528\n",
            "Non-trainable params: 0\n",
            "----------------------------------------------------------------\n",
            "Input size (MB): 0.01\n",
            "Forward/backward pass size (MB): 16.37\n",
            "Params size (MB): 3.53\n",
            "Estimated Total Size (MB): 19.92\n",
            "----------------------------------------------------------------\n"
          ],
          "name": "stdout"
        }
      ]
    },
    {
      "cell_type": "markdown",
      "metadata": {
        "id": "Wdw2NNCUpoCu",
        "colab_type": "text"
      },
      "source": [
        "3. Define a Loss function and optimizer\n",
        "^^^^^^^^^^^^^^^^^^^^^^^^^^^^^^^^^^^^^^^\n",
        "Let's use a Classification Cross-Entropy loss and SGD with momentum.\n",
        "\n"
      ]
    },
    {
      "cell_type": "code",
      "metadata": {
        "id": "M4xBbDROpoCv",
        "colab_type": "code",
        "colab": {}
      },
      "source": [
        "import torch.optim as optim\n",
        "\n",
        "criterion = nn.CrossEntropyLoss()\n",
        "optimizer = optim.SGD(model.parameters(), lr=0.001, momentum=0.9)"
      ],
      "execution_count": 0,
      "outputs": []
    },
    {
      "cell_type": "code",
      "metadata": {
        "id": "7SsIYnyWVWyl",
        "colab_type": "code",
        "colab": {}
      },
      "source": [
        "your_module = drive.CreateFile({'id':'1OLPBiTGJOf67KXV2d0naHlPwi1Pf-XFH'})\n",
        "\n",
        "your_module.GetContentFile(\"Train_package_V4.py\")\n",
        "from Train_package_V4 import train\n",
        "\n"
      ],
      "execution_count": 0,
      "outputs": []
    },
    {
      "cell_type": "markdown",
      "metadata": {
        "id": "O-odOrhdpoC2",
        "colab_type": "text"
      },
      "source": [
        "4. Train the network\n",
        "^^^^^^^^^^^^^^^^^^^^\n",
        "\n",
        "This is when things start to get interesting.\n",
        "We simply have to loop over our data iterator, and feed the inputs to the\n",
        "network and optimize.\n",
        "\n"
      ]
    },
    {
      "cell_type": "code",
      "metadata": {
        "id": "kkuRfo1IpoC3",
        "colab_type": "code",
        "outputId": "84466bea-8ad3-41a7-cfa8-701a51039f7a",
        "colab": {
          "base_uri": "https://localhost:8080/",
          "height": 1000
        }
      },
      "source": [
        "epochs=25\n",
        "\n",
        "train(model,device,trainloader,epochs,optimizer,criterion)\n",
        "\n"
      ],
      "execution_count": 12,
      "outputs": [
        {
          "output_type": "stream",
          "text": [
            "[1,  2000] loss: 1.930\n",
            "[1,  4000] loss: 1.639\n",
            "[1,  6000] loss: 1.490\n",
            "[1,  8000] loss: 1.375\n",
            "[1, 10000] loss: 1.277\n",
            "[1, 12000] loss: 1.209\n",
            "[2,  2000] loss: 1.116\n",
            "[2,  4000] loss: 1.071\n",
            "[2,  6000] loss: 1.032\n",
            "[2,  8000] loss: 0.996\n",
            "[2, 10000] loss: 0.948\n",
            "[2, 12000] loss: 0.932\n",
            "[3,  2000] loss: 0.852\n",
            "[3,  4000] loss: 0.857\n",
            "[3,  6000] loss: 0.834\n",
            "[3,  8000] loss: 0.821\n",
            "[3, 10000] loss: 0.803\n",
            "[3, 12000] loss: 0.791\n",
            "[4,  2000] loss: 0.733\n",
            "[4,  4000] loss: 0.728\n",
            "[4,  6000] loss: 0.724\n",
            "[4,  8000] loss: 0.720\n",
            "[4, 10000] loss: 0.706\n",
            "[4, 12000] loss: 0.689\n",
            "[5,  2000] loss: 0.646\n",
            "[5,  4000] loss: 0.641\n",
            "[5,  6000] loss: 0.647\n",
            "[5,  8000] loss: 0.638\n",
            "[5, 10000] loss: 0.617\n",
            "[5, 12000] loss: 0.620\n",
            "[6,  2000] loss: 0.584\n",
            "[6,  4000] loss: 0.594\n",
            "[6,  6000] loss: 0.565\n",
            "[6,  8000] loss: 0.567\n",
            "[6, 10000] loss: 0.562\n",
            "[6, 12000] loss: 0.562\n",
            "[7,  2000] loss: 0.534\n",
            "[7,  4000] loss: 0.506\n",
            "[7,  6000] loss: 0.526\n",
            "[7,  8000] loss: 0.530\n",
            "[7, 10000] loss: 0.520\n",
            "[7, 12000] loss: 0.526\n",
            "[8,  2000] loss: 0.483\n",
            "[8,  4000] loss: 0.464\n",
            "[8,  6000] loss: 0.478\n",
            "[8,  8000] loss: 0.486\n",
            "[8, 10000] loss: 0.480\n",
            "[8, 12000] loss: 0.497\n",
            "[9,  2000] loss: 0.443\n",
            "[9,  4000] loss: 0.433\n",
            "[9,  6000] loss: 0.445\n",
            "[9,  8000] loss: 0.462\n",
            "[9, 10000] loss: 0.459\n",
            "[9, 12000] loss: 0.457\n",
            "[10,  2000] loss: 0.406\n",
            "[10,  4000] loss: 0.400\n",
            "[10,  6000] loss: 0.407\n",
            "[10,  8000] loss: 0.423\n",
            "[10, 10000] loss: 0.414\n",
            "[10, 12000] loss: 0.436\n",
            "[11,  2000] loss: 0.383\n",
            "[11,  4000] loss: 0.391\n",
            "[11,  6000] loss: 0.390\n",
            "[11,  8000] loss: 0.375\n",
            "[11, 10000] loss: 0.380\n",
            "[11, 12000] loss: 0.398\n",
            "[12,  2000] loss: 0.337\n",
            "[12,  4000] loss: 0.359\n",
            "[12,  6000] loss: 0.371\n",
            "[12,  8000] loss: 0.362\n",
            "[12, 10000] loss: 0.375\n",
            "[12, 12000] loss: 0.382\n",
            "[13,  2000] loss: 0.323\n",
            "[13,  4000] loss: 0.326\n",
            "[13,  6000] loss: 0.356\n",
            "[13,  8000] loss: 0.352\n",
            "[13, 10000] loss: 0.343\n",
            "[13, 12000] loss: 0.364\n",
            "[14,  2000] loss: 0.303\n",
            "[14,  4000] loss: 0.324\n",
            "[14,  6000] loss: 0.345\n",
            "[14,  8000] loss: 0.313\n",
            "[14, 10000] loss: 0.338\n",
            "[14, 12000] loss: 0.317\n",
            "[15,  2000] loss: 0.276\n",
            "[15,  4000] loss: 0.291\n",
            "[15,  6000] loss: 0.301\n",
            "[15,  8000] loss: 0.308\n",
            "[15, 10000] loss: 0.303\n",
            "[15, 12000] loss: 0.323\n",
            "[16,  2000] loss: 0.261\n",
            "[16,  4000] loss: 0.275\n",
            "[16,  6000] loss: 0.303\n",
            "[16,  8000] loss: 0.284\n",
            "[16, 10000] loss: 0.282\n",
            "[16, 12000] loss: 0.298\n",
            "[17,  2000] loss: 0.271\n",
            "[17,  4000] loss: 0.268\n",
            "[17,  6000] loss: 0.281\n",
            "[17,  8000] loss: 0.283\n",
            "[17, 10000] loss: 0.285\n",
            "[17, 12000] loss: 0.276\n",
            "[18,  2000] loss: 0.232\n",
            "[18,  4000] loss: 0.249\n",
            "[18,  6000] loss: 0.255\n",
            "[18,  8000] loss: 0.259\n",
            "[18, 10000] loss: 0.274\n",
            "[18, 12000] loss: 0.273\n",
            "[19,  2000] loss: 0.224\n",
            "[19,  4000] loss: 0.251\n",
            "[19,  6000] loss: 0.248\n",
            "[19,  8000] loss: 0.252\n",
            "[19, 10000] loss: 0.274\n",
            "[19, 12000] loss: 0.247\n",
            "[20,  2000] loss: 0.217\n",
            "[20,  4000] loss: 0.233\n",
            "[20,  6000] loss: 0.226\n",
            "[20,  8000] loss: 0.240\n",
            "[20, 10000] loss: 0.263\n",
            "[20, 12000] loss: 0.236\n",
            "[21,  2000] loss: 0.206\n",
            "[21,  4000] loss: 0.217\n",
            "[21,  6000] loss: 0.210\n",
            "[21,  8000] loss: 0.236\n",
            "[21, 10000] loss: 0.240\n",
            "[21, 12000] loss: 0.237\n",
            "[22,  2000] loss: 0.189\n",
            "[22,  4000] loss: 0.219\n",
            "[22,  6000] loss: 0.220\n",
            "[22,  8000] loss: 0.219\n",
            "[22, 10000] loss: 0.213\n",
            "[22, 12000] loss: 0.219\n",
            "[23,  2000] loss: 0.192\n",
            "[23,  4000] loss: 0.199\n",
            "[23,  6000] loss: 0.208\n",
            "[23,  8000] loss: 0.224\n",
            "[23, 10000] loss: 0.208\n",
            "[23, 12000] loss: 0.215\n",
            "[24,  2000] loss: 0.185\n",
            "[24,  4000] loss: 0.190\n",
            "[24,  6000] loss: 0.201\n",
            "[24,  8000] loss: 0.204\n",
            "[24, 10000] loss: 0.218\n",
            "[24, 12000] loss: 0.209\n",
            "[25,  2000] loss: 0.160\n",
            "[25,  4000] loss: 0.187\n",
            "[25,  6000] loss: 0.186\n",
            "[25,  8000] loss: 0.197\n",
            "[25, 10000] loss: 0.188\n",
            "[25, 12000] loss: 0.206\n",
            "Finished Training\n"
          ],
          "name": "stdout"
        }
      ]
    },
    {
      "cell_type": "markdown",
      "metadata": {
        "id": "YLrvL_fHpoC5",
        "colab_type": "text"
      },
      "source": [
        "5. Test the network on the test data\n",
        "^^^^^^^^^^^^^^^^^^^^^^^^^^^^^^^^^^^^\n",
        "\n",
        "We have trained the network for 2 passes over the training dataset.\n",
        "But we need to check if the network has learnt anything at all.\n",
        "\n",
        "We will check this by predicting the class label that the neural network\n",
        "outputs, and checking it against the ground-truth. If the prediction is\n",
        "correct, we add the sample to the list of correct predictions.\n",
        "\n",
        "Okay, first step. Let us display an image from the test set to get familiar.\n",
        "\n"
      ]
    },
    {
      "cell_type": "code",
      "metadata": {
        "id": "nizbsvw9poC6",
        "colab_type": "code",
        "outputId": "337d411e-e120-413a-be19-dac993cdb886",
        "colab": {
          "base_uri": "https://localhost:8080/",
          "height": 155
        }
      },
      "source": [
        "dataiter = iter(testloader)\n",
        "images, labels = dataiter.next()\n",
        "\n",
        "# print images\n",
        "imshow(torchvision.utils.make_grid(images))\n",
        "print('GroundTruth: ', ' '.join('%5s' % classes[labels[j]] for j in range(4)))"
      ],
      "execution_count": 13,
      "outputs": [
        {
          "output_type": "stream",
          "text": [
            "GroundTruth:    cat  ship  ship plane\n"
          ],
          "name": "stdout"
        },
        {
          "output_type": "display_data",
          "data": {
            "image/png": "[encoded data removed]",
            "text/plain": [
              "<Figure size 432x288 with 1 Axes>"
            ]
          },
          "metadata": {
            "tags": [],
            "needs_background": "light"
          }
        }
      ]
    },
    {
      "cell_type": "markdown",
      "metadata": {
        "id": "DAx4QPHVpoC8",
        "colab_type": "text"
      },
      "source": [
        "Okay, now let us see what the neural network thinks these examples above are:\n",
        "\n"
      ]
    },
    {
      "cell_type": "code",
      "metadata": {
        "id": "HVLjlssWpoC9",
        "colab_type": "code",
        "colab": {}
      },
      "source": [
        "CPUmodel=model_architecture.Net()\n",
        "CPUmodel.load_state_dict(model.cpu().state_dict())\n",
        "\n",
        "\n",
        "outputs = CPUmodel(images)"
      ],
      "execution_count": 0,
      "outputs": []
    },
    {
      "cell_type": "markdown",
      "metadata": {
        "id": "u8OTHZEApoC_",
        "colab_type": "text"
      },
      "source": [
        "The outputs are energies for the 10 classes.\n",
        "Higher the energy for a class, the more the network\n",
        "thinks that the image is of the particular class.\n",
        "So, let's get the index of the highest energy:\n",
        "\n"
      ]
    },
    {
      "cell_type": "code",
      "metadata": {
        "id": "ABRIDW3lpoDA",
        "colab_type": "code",
        "outputId": "a974f523-dfd5-46b6-ead8-59f12b9d9859",
        "colab": {
          "base_uri": "https://localhost:8080/",
          "height": 34
        }
      },
      "source": [
        "_, predicted = torch.max(outputs, 1)\n",
        "\n",
        "print('Predicted: ', ' '.join('%5s' % classes[predicted[j]]\n",
        "                              for j in range(4)))"
      ],
      "execution_count": 15,
      "outputs": [
        {
          "output_type": "stream",
          "text": [
            "Predicted:    cat  ship  ship plane\n"
          ],
          "name": "stdout"
        }
      ]
    },
    {
      "cell_type": "markdown",
      "metadata": {
        "id": "2TV0TXL1poDC",
        "colab_type": "text"
      },
      "source": [
        "The results seem pretty good.\n",
        "\n",
        "Let us look at how the network performs on the whole dataset.\n",
        "\n"
      ]
    },
    {
      "cell_type": "code",
      "metadata": {
        "id": "SZ4-5CESpoDD",
        "colab_type": "code",
        "outputId": "5d820c06-ad41-4801-b984-1ef31797098e",
        "colab": {
          "base_uri": "https://localhost:8080/",
          "height": 34
        }
      },
      "source": [
        "correct = 0\n",
        "total = 0\n",
        "with torch.no_grad():\n",
        "    for data in testloader:\n",
        "        images, labels = data\n",
        "        outputs = CPUmodel(images)\n",
        "        _, predicted = torch.max(outputs.data, 1)\n",
        "        total += labels.size(0)\n",
        "        correct += (predicted == labels).sum().item()\n",
        "\n",
        "print('Accuracy of the network on the 10000 test images: %d %%' % (\n",
        "    100 * correct / total))"
      ],
      "execution_count": 16,
      "outputs": [
        {
          "output_type": "stream",
          "text": [
            "Accuracy of the network on the 10000 test images: 83 %\n"
          ],
          "name": "stdout"
        }
      ]
    },
    {
      "cell_type": "code",
      "metadata": {
        "id": "a_w7-v9Sfn3Q",
        "colab_type": "code",
        "colab": {}
      },
      "source": [
        ""
      ],
      "execution_count": 0,
      "outputs": []
    },
    {
      "cell_type": "code",
      "metadata": {
        "id": "_1rwfO6vfn_r",
        "colab_type": "code",
        "colab": {}
      },
      "source": [
        "your_module = drive.CreateFile({'id':'1wIozhmRFzWxdnfT29yfs3yLXYd51qJxM'})\n",
        "\n",
        "\n",
        "your_module.GetContentFile(\"Accuracy_cal_package_V2.py\")\n",
        "from Accuracy_cal_package_V2 import Accuracy_calculation"
      ],
      "execution_count": 0,
      "outputs": []
    },
    {
      "cell_type": "markdown",
      "metadata": {
        "id": "eDdwPBl8poDF",
        "colab_type": "text"
      },
      "source": [
        "That looks waaay better than chance, which is 10% accuracy (randomly picking\n",
        "a class out of 10 classes).\n",
        "Seems like the network learnt something.\n",
        "\n",
        "Hmmm, what are the classes that performed well, and the classes that did\n",
        "not perform well:\n",
        "\n"
      ]
    },
    {
      "cell_type": "code",
      "metadata": {
        "id": "pDNFuDEDpoDG",
        "colab_type": "code",
        "outputId": "15ccc924-66ae-458e-967e-2d3d97c3dfe4",
        "colab": {
          "base_uri": "https://localhost:8080/",
          "height": 185
        }
      },
      "source": [
        "\n",
        "Accuracy_calculation(testloader,CPUmodel,classes)\n"
      ],
      "execution_count": 18,
      "outputs": [
        {
          "output_type": "stream",
          "text": [
            "Accuracy of plane : 85 %\n",
            "Accuracy of   car : 92 %\n",
            "Accuracy of  bird : 73 %\n",
            "Accuracy of   cat : 71 %\n",
            "Accuracy of  deer : 87 %\n",
            "Accuracy of   dog : 77 %\n",
            "Accuracy of  frog : 88 %\n",
            "Accuracy of horse : 80 %\n",
            "Accuracy of  ship : 91 %\n",
            "Accuracy of truck : 89 %\n"
          ],
          "name": "stdout"
        }
      ]
    },
    {
      "cell_type": "code",
      "metadata": {
        "id": "e0VSyzZOqP4Q",
        "colab_type": "code",
        "colab": {}
      },
      "source": [
        ""
      ],
      "execution_count": 0,
      "outputs": []
    }
  ]
}