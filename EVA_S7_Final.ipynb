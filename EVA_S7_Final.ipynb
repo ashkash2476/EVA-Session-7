{
  "nbformat": 4,
  "nbformat_minor": 0,
  "metadata": {
    "kernelspec": {
      "name": "python3",
      "display_name": "Python 3"
    },
    "language_info": {
      "codemirror_mode": {
        "name": "ipython",
        "version": 3
      },
      "file_extension": ".py",
      "mimetype": "text/x-python",
      "name": "python",
      "nbconvert_exporter": "python",
      "pygments_lexer": "ipython3",
      "version": "3.6.6"
    },
    "colab": {
      "name": "EVA_S7_V1.ipynb",
      "provenance": [],
      "collapsed_sections": []
    },
    "accelerator": "GPU"
  },
  "cells": [
    {
      "cell_type": "code",
      "metadata": {
        "id": "-yVpodAMpoCi",
        "colab_type": "code",
        "colab": {
          "base_uri": "https://localhost:8080/",
          "height": 272
        },
        "outputId": "7bcb2421-948e-48f9-bf31-a0a90e9a921d"
      },
      "source": [
        "from google.colab import auth                    # Other necessary packages\n",
        "from oauth2client.client import GoogleCredentials\n",
        "!pip install pydrive                             # Package to use Google Drive API - not installed in Colab VM by default\n",
        "from pydrive.auth import GoogleAuth\n",
        "from pydrive.drive import GoogleDrive\n",
        "%matplotlib inline"
      ],
      "execution_count": 2,
      "outputs": [
        {
          "output_type": "stream",
          "text": [
            "Requirement already satisfied: pydrive in /usr/local/lib/python3.6/dist-packages (1.3.1)\n",
            "Requirement already satisfied: oauth2client>=4.0.0 in /usr/local/lib/python3.6/dist-packages (from pydrive) (4.1.3)\n",
            "Requirement already satisfied: PyYAML>=3.0 in /usr/local/lib/python3.6/dist-packages (from pydrive) (3.13)\n",
            "Requirement already satisfied: google-api-python-client>=1.2 in /usr/local/lib/python3.6/dist-packages (from pydrive) (1.7.12)\n",
            "Requirement already satisfied: pyasn1-modules>=0.0.5 in /usr/local/lib/python3.6/dist-packages (from oauth2client>=4.0.0->pydrive) (0.2.8)\n",
            "Requirement already satisfied: six>=1.6.1 in /usr/local/lib/python3.6/dist-packages (from oauth2client>=4.0.0->pydrive) (1.12.0)\n",
            "Requirement already satisfied: rsa>=3.1.4 in /usr/local/lib/python3.6/dist-packages (from oauth2client>=4.0.0->pydrive) (4.0)\n",
            "Requirement already satisfied: pyasn1>=0.1.7 in /usr/local/lib/python3.6/dist-packages (from oauth2client>=4.0.0->pydrive) (0.4.8)\n",
            "Requirement already satisfied: httplib2>=0.9.1 in /usr/local/lib/python3.6/dist-packages (from oauth2client>=4.0.0->pydrive) (0.17.3)\n",
            "Requirement already satisfied: google-auth>=1.4.1 in /usr/local/lib/python3.6/dist-packages (from google-api-python-client>=1.2->pydrive) (1.7.2)\n",
            "Requirement already satisfied: google-auth-httplib2>=0.0.3 in /usr/local/lib/python3.6/dist-packages (from google-api-python-client>=1.2->pydrive) (0.0.3)\n",
            "Requirement already satisfied: uritemplate<4dev,>=3.0.0 in /usr/local/lib/python3.6/dist-packages (from google-api-python-client>=1.2->pydrive) (3.0.1)\n",
            "Requirement already satisfied: cachetools<3.2,>=2.0.0 in /usr/local/lib/python3.6/dist-packages (from google-auth>=1.4.1->google-api-python-client>=1.2->pydrive) (3.1.1)\n",
            "Requirement already satisfied: setuptools>=40.3.0 in /usr/local/lib/python3.6/dist-packages (from google-auth>=1.4.1->google-api-python-client>=1.2->pydrive) (46.1.3)\n"
          ],
          "name": "stdout"
        }
      ]
    },
    {
      "cell_type": "code",
      "metadata": {
        "id": "ZA4fsS5Q4K7J",
        "colab_type": "code",
        "colab": {}
      },
      "source": [
        "auth.authenticate_user()                         # Follow prompt in the authorization process\n",
        "gauth = GoogleAuth()\n",
        "gauth.credentials = GoogleCredentials.get_application_default()"
      ],
      "execution_count": 0,
      "outputs": []
    },
    {
      "cell_type": "code",
      "metadata": {
        "id": "19deGeHD8pbO",
        "colab_type": "code",
        "colab": {}
      },
      "source": [
        "drive = GoogleDrive(gauth)\n",
        "your_module = drive.CreateFile({'id':'1H-qGCzZA6JmlKpUnRky3HySPO4suAQUK'})\n",
        "\n",
        "your_module.GetContentFile(\"model_architecture.py\") "
      ],
      "execution_count": 0,
      "outputs": []
    },
    {
      "cell_type": "code",
      "metadata": {
        "id": "TkKliz_y8sOw",
        "colab_type": "code",
        "colab": {}
      },
      "source": [
        "import model_architecture"
      ],
      "execution_count": 0,
      "outputs": []
    },
    {
      "cell_type": "code",
      "metadata": {
        "id": "D8Tjigo2poCl",
        "colab_type": "code",
        "outputId": "943a2a97-aeaa-4b61-9419-b4d8b91f714b",
        "colab": {
          "base_uri": "https://localhost:8080/",
          "height": 50
        }
      },
      "source": [
        "transform = model_architecture.transforms.Compose(\n",
        "    [model_architecture.transforms.ToTensor(),\n",
        "     model_architecture.transforms.Normalize((0.5, 0.5, 0.5), (0.5, 0.5, 0.5))])\n",
        "\n",
        "trainset = model_architecture.torchvision.datasets.CIFAR10(root='./data', train=True,\n",
        "                                        download=True, transform=transform)\n",
        "trainloader = model_architecture.torch.utils.data.DataLoader(trainset, batch_size=4,\n",
        "                                          shuffle=True, num_workers=2)\n",
        "\n",
        "testset = model_architecture.torchvision.datasets.CIFAR10(root='./data', train=False,\n",
        "                                       download=True, transform=transform)\n",
        "testloader = model_architecture.torch.utils.data.DataLoader(testset, batch_size=4,\n",
        "                                         shuffle=False, num_workers=2)\n",
        "\n",
        "classes = ('plane', 'car', 'bird', 'cat',\n",
        "           'deer', 'dog', 'frog', 'horse', 'ship', 'truck')"
      ],
      "execution_count": 11,
      "outputs": [
        {
          "output_type": "stream",
          "text": [
            "Files already downloaded and verified\n",
            "Files already downloaded and verified\n"
          ],
          "name": "stdout"
        }
      ]
    },
    {
      "cell_type": "markdown",
      "metadata": {
        "id": "_cj433rtpoCn",
        "colab_type": "text"
      },
      "source": [
        "Let us show some of the training images, for fun.\n",
        "\n"
      ]
    },
    {
      "cell_type": "code",
      "metadata": {
        "id": "daA7bADhpoCo",
        "colab_type": "code",
        "outputId": "d26618da-125d-4c5a-e58f-fcc5c78bc913",
        "colab": {
          "base_uri": "https://localhost:8080/",
          "height": 155
        }
      },
      "source": [
        "import matplotlib.pyplot as plt\n",
        "import numpy as np\n",
        "\n",
        "# functions to show an image\n",
        "\n",
        "\n",
        "def imshow(img):\n",
        "    img = img / 2 + 0.5     # unnormalize\n",
        "    npimg = img.numpy()\n",
        "    plt.imshow(np.transpose(npimg, (1, 2, 0)))\n",
        "\n",
        "\n",
        "# get some random training images\n",
        "dataiter = iter(trainloader)\n",
        "images, labels = dataiter.next()\n",
        "\n",
        "# show images\n",
        "imshow(model_architecture.torchvision.utils.make_grid(images))\n",
        "# print labels\n",
        "print(' '.join('%5s' % classes[labels[j]] for j in range(4)))"
      ],
      "execution_count": 13,
      "outputs": [
        {
          "output_type": "stream",
          "text": [
            " deer   dog  frog horse\n"
          ],
          "name": "stdout"
        },
        {
          "output_type": "display_data",
          "data": {
            "image/png": "[encoded data removed]",
            "text/plain": [
              "<Figure size 432x288 with 1 Axes>"
            ]
          },
          "metadata": {
            "tags": [],
            "needs_background": "light"
          }
        }
      ]
    },
    {
      "cell_type": "markdown",
      "metadata": {
        "id": "28OpHA_LpoCq",
        "colab_type": "text"
      },
      "source": [
        "2. Define a Convolution Neural Network\n",
        "^^^^^^^^^^^^^^^^^^^^^^^^^^^^^^^^^^^^^^\n",
        "Copy the neural network from the Neural Networks section before and modify it to\n",
        "take 3-channel images (instead of 1-channel images as it was defined).\n",
        "\n"
      ]
    },
    {
      "cell_type": "code",
      "metadata": {
        "id": "sh1c3Yx0lzsY",
        "colab_type": "code",
        "colab": {
          "base_uri": "https://localhost:8080/",
          "height": 874
        },
        "outputId": "c26ffc1f-f991-40ca-f234-caa1151e1b8f"
      },
      "source": [
        "!pip install torchsummary\n",
        "from torchsummary import summary\n",
        "use_cuda = model_architecture.torch.cuda.is_available()\n",
        "device = model_architecture.torch.device(\"cuda\" if use_cuda else \"cpu\")\n",
        "model = model_architecture.Net().to(device)\n",
        "summary(model, input_size=(3, 32, 32))"
      ],
      "execution_count": 17,
      "outputs": [
        {
          "output_type": "stream",
          "text": [
            "Requirement already satisfied: torchsummary in /usr/local/lib/python3.6/dist-packages (1.5.1)\n",
            "----------------------------------------------------------------\n",
            "        Layer (type)               Output Shape         Param #\n",
            "================================================================\n",
            "            Conv2d-1           [-1, 64, 32, 32]           1,728\n",
            "       BatchNorm2d-2           [-1, 64, 32, 32]             128\n",
            "              ReLU-3           [-1, 64, 32, 32]               0\n",
            "           Dropout-4           [-1, 64, 32, 32]               0\n",
            "            Conv2d-5          [-1, 128, 30, 30]          73,728\n",
            "       BatchNorm2d-6          [-1, 128, 30, 30]             256\n",
            "              ReLU-7          [-1, 128, 30, 30]               0\n",
            "           Dropout-8          [-1, 128, 30, 30]               0\n",
            "            Conv2d-9          [-1, 256, 30, 30]         294,912\n",
            "      BatchNorm2d-10          [-1, 256, 30, 30]             512\n",
            "             ReLU-11          [-1, 256, 30, 30]               0\n",
            "          Dropout-12          [-1, 256, 30, 30]               0\n",
            "        MaxPool2d-13          [-1, 256, 15, 15]               0\n",
            "           Conv2d-14          [-1, 256, 17, 17]             256\n",
            "             ReLU-15          [-1, 256, 17, 17]               0\n",
            "          Dropout-16          [-1, 256, 17, 17]               0\n",
            "           Conv2d-17           [-1, 64, 17, 17]         147,456\n",
            "      BatchNorm2d-18           [-1, 64, 17, 17]             128\n",
            "             ReLU-19           [-1, 64, 17, 17]               0\n",
            "          Dropout-20           [-1, 64, 17, 17]               0\n",
            "           Conv2d-21           [-1, 64, 17, 17]          36,864\n",
            "      BatchNorm2d-22           [-1, 64, 17, 17]             128\n",
            "             ReLU-23           [-1, 64, 17, 17]               0\n",
            "          Dropout-24           [-1, 64, 17, 17]               0\n",
            "        MaxPool2d-25             [-1, 64, 8, 8]               0\n",
            "           Conv2d-26            [-1, 128, 8, 8]          73,728\n",
            "      BatchNorm2d-27            [-1, 128, 8, 8]             256\n",
            "             ReLU-28            [-1, 128, 8, 8]               0\n",
            "          Dropout-29            [-1, 128, 8, 8]               0\n",
            "           Conv2d-30            [-1, 128, 8, 8]         147,456\n",
            "      BatchNorm2d-31            [-1, 128, 8, 8]             256\n",
            "             ReLU-32            [-1, 128, 8, 8]               0\n",
            "          Dropout-33            [-1, 128, 8, 8]               0\n",
            "        MaxPool2d-34            [-1, 128, 4, 4]               0\n",
            "           Conv2d-35            [-1, 128, 4, 4]         147,456\n",
            "           Conv2d-36             [-1, 10, 4, 4]           1,280\n",
            "        AvgPool2d-37             [-1, 10, 1, 1]               0\n",
            "================================================================\n",
            "Total params: 926,528\n",
            "Trainable params: 926,528\n",
            "Non-trainable params: 0\n",
            "----------------------------------------------------------------\n",
            "Input size (MB): 0.01\n",
            "Forward/backward pass size (MB): 16.37\n",
            "Params size (MB): 3.53\n",
            "Estimated Total Size (MB): 19.92\n",
            "----------------------------------------------------------------\n"
          ],
          "name": "stdout"
        }
      ]
    },
    {
      "cell_type": "markdown",
      "metadata": {
        "id": "Wdw2NNCUpoCu",
        "colab_type": "text"
      },
      "source": [
        "3. Define a Loss function and optimizer\n",
        "^^^^^^^^^^^^^^^^^^^^^^^^^^^^^^^^^^^^^^^\n",
        "Let's use a Classification Cross-Entropy loss and SGD with momentum.\n",
        "\n"
      ]
    },
    {
      "cell_type": "code",
      "metadata": {
        "id": "M4xBbDROpoCv",
        "colab_type": "code",
        "colab": {}
      },
      "source": [
        "import torch.optim as optim\n",
        "\n",
        "criterion = model_architecture.nn.CrossEntropyLoss()\n",
        "optimizer = optim.SGD(model.parameters(), lr=0.001, momentum=0.9)"
      ],
      "execution_count": 0,
      "outputs": []
    },
    {
      "cell_type": "markdown",
      "metadata": {
        "id": "O-odOrhdpoC2",
        "colab_type": "text"
      },
      "source": [
        "4. Train the network\n",
        "^^^^^^^^^^^^^^^^^^^^\n",
        "\n",
        "This is when things start to get interesting.\n",
        "We simply have to loop over our data iterator, and feed the inputs to the\n",
        "network and optimize.\n",
        "\n"
      ]
    },
    {
      "cell_type": "code",
      "metadata": {
        "id": "kkuRfo1IpoC3",
        "colab_type": "code",
        "outputId": "0e0939c8-ed3d-40ce-8664-cbb884a761a3",
        "colab": {
          "base_uri": "https://localhost:8080/",
          "height": 1000
        }
      },
      "source": [
        "for epoch in range(25):  # loop over the dataset multiple times\n",
        "\n",
        "    running_loss = 0.0\n",
        "    for i, data in enumerate(trainloader, 0):\n",
        "        # get the inputs\n",
        "        inputs, labels = data\n",
        "        inputs=inputs.to(device)\n",
        "        labels=labels.to(device)\n",
        "        # zero the parameter gradients\n",
        "        optimizer.zero_grad()\n",
        "\n",
        "        # forward + backward + optimize\n",
        "        outputs = model(inputs)\n",
        "        loss = criterion(outputs, labels)\n",
        "        loss.backward()\n",
        "        optimizer.step()\n",
        "\n",
        "        # print statistics\n",
        "        running_loss += loss.item()\n",
        "        if i % 2000 == 1999:    # print every 2000 mini-batches\n",
        "            print('[%d, %5d] loss: %.3f' %\n",
        "                  (epoch + 1, i + 1, running_loss / 2000))\n",
        "            running_loss = 0.0\n",
        "\n",
        "print('Finished Training')"
      ],
      "execution_count": 24,
      "outputs": [
        {
          "output_type": "stream",
          "text": [
            "[1,  2000] loss: 1.612\n",
            "[1,  4000] loss: 1.444\n",
            "[1,  6000] loss: 1.332\n",
            "[1,  8000] loss: 1.236\n",
            "[1, 10000] loss: 1.201\n",
            "[1, 12000] loss: 1.105\n",
            "[2,  2000] loss: 1.040\n",
            "[2,  4000] loss: 1.013\n",
            "[2,  6000] loss: 0.969\n",
            "[2,  8000] loss: 0.948\n",
            "[2, 10000] loss: 0.907\n",
            "[2, 12000] loss: 0.873\n",
            "[3,  2000] loss: 0.814\n",
            "[3,  4000] loss: 0.814\n",
            "[3,  6000] loss: 0.799\n",
            "[3,  8000] loss: 0.778\n",
            "[3, 10000] loss: 0.759\n",
            "[3, 12000] loss: 0.759\n",
            "[4,  2000] loss: 0.700\n",
            "[4,  4000] loss: 0.695\n",
            "[4,  6000] loss: 0.699\n",
            "[4,  8000] loss: 0.688\n",
            "[4, 10000] loss: 0.672\n",
            "[4, 12000] loss: 0.679\n",
            "[5,  2000] loss: 0.616\n",
            "[5,  4000] loss: 0.611\n",
            "[5,  6000] loss: 0.632\n",
            "[5,  8000] loss: 0.619\n",
            "[5, 10000] loss: 0.609\n",
            "[5, 12000] loss: 0.598\n",
            "[6,  2000] loss: 0.539\n",
            "[6,  4000] loss: 0.554\n",
            "[6,  6000] loss: 0.582\n",
            "[6,  8000] loss: 0.536\n",
            "[6, 10000] loss: 0.543\n",
            "[6, 12000] loss: 0.557\n",
            "[7,  2000] loss: 0.503\n",
            "[7,  4000] loss: 0.501\n",
            "[7,  6000] loss: 0.502\n",
            "[7,  8000] loss: 0.494\n",
            "[7, 10000] loss: 0.523\n",
            "[7, 12000] loss: 0.496\n",
            "[8,  2000] loss: 0.443\n",
            "[8,  4000] loss: 0.461\n",
            "[8,  6000] loss: 0.471\n",
            "[8,  8000] loss: 0.467\n",
            "[8, 10000] loss: 0.469\n",
            "[8, 12000] loss: 0.475\n",
            "[9,  2000] loss: 0.423\n",
            "[9,  4000] loss: 0.418\n",
            "[9,  6000] loss: 0.410\n",
            "[9,  8000] loss: 0.438\n",
            "[9, 10000] loss: 0.427\n",
            "[9, 12000] loss: 0.445\n",
            "[10,  2000] loss: 0.386\n",
            "[10,  4000] loss: 0.408\n",
            "[10,  6000] loss: 0.404\n",
            "[10,  8000] loss: 0.390\n",
            "[10, 10000] loss: 0.396\n",
            "[10, 12000] loss: 0.432\n",
            "[11,  2000] loss: 0.355\n",
            "[11,  4000] loss: 0.353\n",
            "[11,  6000] loss: 0.368\n",
            "[11,  8000] loss: 0.393\n",
            "[11, 10000] loss: 0.368\n",
            "[11, 12000] loss: 0.383\n",
            "[12,  2000] loss: 0.346\n",
            "[12,  4000] loss: 0.347\n",
            "[12,  6000] loss: 0.354\n",
            "[12,  8000] loss: 0.353\n",
            "[12, 10000] loss: 0.356\n",
            "[12, 12000] loss: 0.347\n",
            "[13,  2000] loss: 0.310\n",
            "[13,  4000] loss: 0.321\n",
            "[13,  6000] loss: 0.336\n",
            "[13,  8000] loss: 0.326\n",
            "[13, 10000] loss: 0.356\n",
            "[13, 12000] loss: 0.328\n",
            "[14,  2000] loss: 0.280\n",
            "[14,  4000] loss: 0.299\n",
            "[14,  6000] loss: 0.310\n",
            "[14,  8000] loss: 0.321\n",
            "[14, 10000] loss: 0.331\n",
            "[14, 12000] loss: 0.332\n",
            "[15,  2000] loss: 0.260\n",
            "[15,  4000] loss: 0.280\n",
            "[15,  6000] loss: 0.291\n",
            "[15,  8000] loss: 0.296\n",
            "[15, 10000] loss: 0.304\n",
            "[15, 12000] loss: 0.306\n",
            "[16,  2000] loss: 0.248\n",
            "[16,  4000] loss: 0.264\n",
            "[16,  6000] loss: 0.283\n",
            "[16,  8000] loss: 0.277\n",
            "[16, 10000] loss: 0.284\n",
            "[16, 12000] loss: 0.291\n",
            "[17,  2000] loss: 0.247\n",
            "[17,  4000] loss: 0.243\n",
            "[17,  6000] loss: 0.245\n",
            "[17,  8000] loss: 0.265\n",
            "[17, 10000] loss: 0.281\n",
            "[17, 12000] loss: 0.290\n",
            "[18,  2000] loss: 0.225\n",
            "[18,  4000] loss: 0.244\n",
            "[18,  6000] loss: 0.239\n",
            "[18,  8000] loss: 0.250\n",
            "[18, 10000] loss: 0.254\n",
            "[18, 12000] loss: 0.250\n",
            "[19,  2000] loss: 0.211\n",
            "[19,  4000] loss: 0.220\n",
            "[19,  6000] loss: 0.239\n",
            "[19,  8000] loss: 0.251\n",
            "[19, 10000] loss: 0.241\n",
            "[19, 12000] loss: 0.259\n",
            "[20,  2000] loss: 0.211\n",
            "[20,  4000] loss: 0.216\n",
            "[20,  6000] loss: 0.207\n",
            "[20,  8000] loss: 0.230\n",
            "[20, 10000] loss: 0.244\n",
            "[20, 12000] loss: 0.236\n",
            "[21,  2000] loss: 0.199\n",
            "[21,  4000] loss: 0.203\n",
            "[21,  6000] loss: 0.209\n",
            "[21,  8000] loss: 0.223\n",
            "[21, 10000] loss: 0.228\n",
            "[21, 12000] loss: 0.222\n",
            "[22,  2000] loss: 0.202\n",
            "[22,  4000] loss: 0.193\n",
            "[22,  6000] loss: 0.190\n",
            "[22,  8000] loss: 0.214\n",
            "[22, 10000] loss: 0.218\n",
            "[22, 12000] loss: 0.230\n",
            "[23,  2000] loss: 0.177\n",
            "[23,  4000] loss: 0.187\n",
            "[23,  6000] loss: 0.183\n",
            "[23,  8000] loss: 0.197\n",
            "[23, 10000] loss: 0.208\n",
            "[23, 12000] loss: 0.213\n",
            "[24,  2000] loss: 0.178\n",
            "[24,  4000] loss: 0.182\n",
            "[24,  6000] loss: 0.183\n",
            "[24,  8000] loss: 0.179\n",
            "[24, 10000] loss: 0.191\n",
            "[24, 12000] loss: 0.191\n",
            "[25,  2000] loss: 0.162\n",
            "[25,  4000] loss: 0.173\n",
            "[25,  6000] loss: 0.174\n",
            "[25,  8000] loss: 0.190\n",
            "[25, 10000] loss: 0.191\n",
            "[25, 12000] loss: 0.189\n",
            "Finished Training\n"
          ],
          "name": "stdout"
        }
      ]
    },
    {
      "cell_type": "code",
      "metadata": {
        "id": "WJbHuuN7-fsL",
        "colab_type": "code",
        "colab": {}
      },
      "source": [
        ""
      ],
      "execution_count": 0,
      "outputs": []
    },
    {
      "cell_type": "code",
      "metadata": {
        "id": "ZrelBUCT-l2G",
        "colab_type": "code",
        "colab": {}
      },
      "source": [
        ""
      ],
      "execution_count": 0,
      "outputs": []
    },
    {
      "cell_type": "markdown",
      "metadata": {
        "id": "YLrvL_fHpoC5",
        "colab_type": "text"
      },
      "source": [
        "5. Test the network on the test data\n",
        "^^^^^^^^^^^^^^^^^^^^^^^^^^^^^^^^^^^^\n",
        "\n",
        "We have trained the network for 2 passes over the training dataset.\n",
        "But we need to check if the network has learnt anything at all.\n",
        "\n",
        "We will check this by predicting the class label that the neural network\n",
        "outputs, and checking it against the ground-truth. If the prediction is\n",
        "correct, we add the sample to the list of correct predictions.\n",
        "\n",
        "Okay, first step. Let us display an image from the test set to get familiar.\n",
        "\n"
      ]
    },
    {
      "cell_type": "code",
      "metadata": {
        "id": "nizbsvw9poC6",
        "colab_type": "code",
        "colab": {
          "base_uri": "https://localhost:8080/",
          "height": 155
        },
        "outputId": "1934ce90-ba9f-4de4-e829-8beb4ef13a64"
      },
      "source": [
        "dataiter = iter(testloader)\n",
        "images, labels = dataiter.next()\n",
        "\n",
        "# print images\n",
        "imshow(model_architecture.torchvision.utils.make_grid(images))\n",
        "print('GroundTruth: ', ' '.join('%5s' % classes[labels[j]] for j in range(4)))"
      ],
      "execution_count": 27,
      "outputs": [
        {
          "output_type": "stream",
          "text": [
            "GroundTruth:    cat  ship  ship plane\n"
          ],
          "name": "stdout"
        },
        {
          "output_type": "display_data",
          "data": {
            "image/png": "[encoded data removed]",
            "text/plain": [
              "<Figure size 432x288 with 1 Axes>"
            ]
          },
          "metadata": {
            "tags": [],
            "needs_background": "light"
          }
        }
      ]
    },
    {
      "cell_type": "markdown",
      "metadata": {
        "id": "DAx4QPHVpoC8",
        "colab_type": "text"
      },
      "source": [
        "Okay, now let us see what the neural network thinks these examples above are:\n",
        "\n"
      ]
    },
    {
      "cell_type": "code",
      "metadata": {
        "id": "HVLjlssWpoC9",
        "colab_type": "code",
        "colab": {}
      },
      "source": [
        "CPUmodel=model_architecture.Net()\n",
        "CPUmodel.load_state_dict(model.cpu().state_dict())\n",
        "\n",
        "\n",
        "outputs = CPUmodel(images)"
      ],
      "execution_count": 0,
      "outputs": []
    },
    {
      "cell_type": "markdown",
      "metadata": {
        "id": "u8OTHZEApoC_",
        "colab_type": "text"
      },
      "source": [
        "The outputs are energies for the 10 classes.\n",
        "Higher the energy for a class, the more the network\n",
        "thinks that the image is of the particular class.\n",
        "So, let's get the index of the highest energy:\n",
        "\n"
      ]
    },
    {
      "cell_type": "code",
      "metadata": {
        "id": "ABRIDW3lpoDA",
        "colab_type": "code",
        "colab": {
          "base_uri": "https://localhost:8080/",
          "height": 34
        },
        "outputId": "3023f864-22a5-4e91-ff92-78fa01f98e3b"
      },
      "source": [
        "_, predicted = model_architecture.torch.max(outputs, 1)\n",
        "\n",
        "print('Predicted: ', ' '.join('%5s' % classes[predicted[j]]\n",
        "                              for j in range(4)))"
      ],
      "execution_count": 32,
      "outputs": [
        {
          "output_type": "stream",
          "text": [
            "Predicted:   bird  ship  ship plane\n"
          ],
          "name": "stdout"
        }
      ]
    },
    {
      "cell_type": "markdown",
      "metadata": {
        "id": "2TV0TXL1poDC",
        "colab_type": "text"
      },
      "source": [
        "The results seem pretty good.\n",
        "\n",
        "Let us look at how the network performs on the whole dataset.\n",
        "\n"
      ]
    },
    {
      "cell_type": "code",
      "metadata": {
        "id": "SZ4-5CESpoDD",
        "colab_type": "code",
        "colab": {
          "base_uri": "https://localhost:8080/",
          "height": 34
        },
        "outputId": "d061d6ec-534f-4dad-83c1-8d9815a500ce"
      },
      "source": [
        "correct = 0\n",
        "total = 0\n",
        "with model_architecture.torch.no_grad():\n",
        "    for data in testloader:\n",
        "        images, labels = data\n",
        "        outputs = CPUmodel(images)\n",
        "        _, predicted = model_architecture.torch.max(outputs.data, 1)\n",
        "        total += labels.size(0)\n",
        "        correct += (predicted == labels).sum().item()\n",
        "\n",
        "print('Accuracy of the network on the 10000 test images: %d %%' % (\n",
        "    100 * correct / total))"
      ],
      "execution_count": 34,
      "outputs": [
        {
          "output_type": "stream",
          "text": [
            "Accuracy of the network on the 10000 test images: 83 %\n"
          ],
          "name": "stdout"
        }
      ]
    },
    {
      "cell_type": "markdown",
      "metadata": {
        "id": "eDdwPBl8poDF",
        "colab_type": "text"
      },
      "source": [
        "That looks waaay better than chance, which is 10% accuracy (randomly picking\n",
        "a class out of 10 classes).\n",
        "Seems like the network learnt something.\n",
        "\n",
        "Hmmm, what are the classes that performed well, and the classes that did\n",
        "not perform well:\n",
        "\n"
      ]
    },
    {
      "cell_type": "code",
      "metadata": {
        "id": "pDNFuDEDpoDG",
        "colab_type": "code",
        "colab": {
          "base_uri": "https://localhost:8080/",
          "height": 185
        },
        "outputId": "59994c4a-a21e-4050-c446-f9730c052f0b"
      },
      "source": [
        "class_correct = list(0. for i in range(10))\n",
        "class_total = list(0. for i in range(10))\n",
        "with model_architecture.torch.no_grad():\n",
        "    for data in testloader:\n",
        "        images, labels = data\n",
        "        outputs = CPUmodel(images)\n",
        "        _, predicted = model_architecture.torch.max(outputs, 1)\n",
        "        c = (predicted == labels).squeeze()\n",
        "        for i in range(4):\n",
        "            label = labels[i]\n",
        "            class_correct[label] += c[i].item()\n",
        "            class_total[label] += 1\n",
        "\n",
        "\n",
        "for i in range(10):\n",
        "    print('Accuracy of %5s : %2d %%' % (\n",
        "        classes[i], 100 * class_correct[i] / class_total[i]))"
      ],
      "execution_count": 37,
      "outputs": [
        {
          "output_type": "stream",
          "text": [
            "Accuracy of plane : 89 %\n",
            "Accuracy of   car : 91 %\n",
            "Accuracy of  bird : 79 %\n",
            "Accuracy of   cat : 63 %\n",
            "Accuracy of  deer : 87 %\n",
            "Accuracy of   dog : 72 %\n",
            "Accuracy of  frog : 92 %\n",
            "Accuracy of horse : 83 %\n",
            "Accuracy of  ship : 87 %\n",
            "Accuracy of truck : 89 %\n"
          ],
          "name": "stdout"
        }
      ]
    },
    {
      "cell_type": "code",
      "metadata": {
        "id": "e0VSyzZOqP4Q",
        "colab_type": "code",
        "colab": {}
      },
      "source": [
        ""
      ],
      "execution_count": 0,
      "outputs": []
    }
  ]
}